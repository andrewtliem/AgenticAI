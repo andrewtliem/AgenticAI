{
  "nbformat": 4,
  "nbformat_minor": 0,
  "metadata": {
    "colab": {
      "provenance": []
    },
    "kernelspec": {
      "name": "python3",
      "display_name": "Python 3"
    },
    "language_info": {
      "name": "python"
    }
  },
  "cells": [
    {
      "cell_type": "markdown",
      "source": [
        "# 🧠 Introduction to Agentic Workflows in Business\n",
        "\n",
        "In today’s business environment, Artificial Intelligence (AI) is evolving beyond single-prompt systems.  \n",
        "Rather than responding to one-time queries, **Agentic AI** allows models to **think, plan, and act** across multiple steps — much like a human assistant that reasons through problems before giving a final answer.\n",
        "\n",
        "## 🤖 What Is Agentic AI?\n",
        "\n",
        "Traditional use of large language models (LLMs) often looks like this:\n",
        "\n",
        "> “Write an essay about topic X.”\n",
        "\n",
        "The model outputs everything in one pass — from the first word to the last — without re-thinking or revising.  \n",
        "While this can work, it’s limited. Humans don’t write or make decisions this way either — we **draft, reflect, research, and revise**.\n",
        "\n",
        "Agentic workflows, on the other hand, break a complex task into **smaller, iterative steps** such as:\n",
        "\n",
        "1. Planning or outlining the goal  \n",
        "2. Searching for information or collecting data  \n",
        "3. Drafting or executing the task  \n",
        "4. Reflecting on what needs improvement  \n",
        "5. Revising or requesting human review before finalizing\n",
        "\n",
        "This approach mirrors how experts work in the real world — continuously refining until the outcome meets a clear objective.\n",
        "\n",
        "---\n",
        "\n",
        "## 💼 Why Agentic Workflows Matter in Business\n",
        "\n",
        "In business, agentic workflows unlock **autonomy, accuracy, and efficiency**.  \n",
        "They enable AI systems to act like *digital assistants* that can **research, compare, evaluate, and recommend** before making a decision.\n",
        "\n",
        "For example:\n",
        "\n",
        "> **Task:** Find the best supplier for laboratory instruments under \\$10,000.\n",
        "\n",
        "An agentic system could:\n",
        "1. Search multiple supplier sites and extract product data.  \n",
        "2. Compare features, prices, and reviews.  \n",
        "3. Rank the top options using defined business rules.  \n",
        "4. Ask for human approval before generating a purchase recommendation.\n",
        "\n",
        "Instead of giving one-off results, the system **iterates**, **checks its work**, and even **collaborates with a human** — leading to better business decisions.\n",
        "\n",
        "---\n",
        "\n",
        "## 🎯 What You’ll Learn in This Tutorial\n",
        "\n",
        "In this tutorial, we’ll create a **simple agentic workflow** for a common business task:  \n",
        "> Asking an AI agent to find and recommend products or services to buy based on user needs.\n",
        "\n",
        "You’ll learn how to:\n",
        "\n",
        "1. **Decompose** a business task into smaller reasoning steps.  \n",
        "2. **Build** each step using LLM-powered functions.  \n",
        "3. **Connect** these steps into an iterative, goal-driven workflow.  \n",
        "4. Optionally, **add a human-in-the-loop** review process for better reliability.\n",
        "\n",
        "---\n",
        "\n",
        "## 🧩 The Goal\n",
        "\n",
        "By the end of this tutorial, you’ll move from a simple prompt like:\n",
        "\n",
        "> “Find me a good product to buy.”\n",
        "\n",
        "to a structured **multi-step agent** that can **plan, search, analyze, and recommend** —  \n",
        "laying the foundation for more advanced business agents such as:\n",
        "\n",
        "- Product recommendation assistants  \n",
        "- Market research bots  \n",
        "- Customer service agents  \n",
        "- Supplier evaluation agents\n",
        "\n",
        "---\n",
        "\n",
        "> 💡 *Inspired by the DeepLearning.AI course on Agentic AI, this tutorial adapts those core ideas into a practical business workflow that you can build and extend inside Google Colab.*\n"
      ],
      "metadata": {
        "id": "CLpDpNtk_Tqb"
      }
    },
    {
      "cell_type": "markdown",
      "source": [
        "# 🤖 Agentic Customer Service Agent (Multi-tool + Reflection)\n",
        "\n",
        "In this tutorial, you’ll learn how to build a **multi-tool agentic workflow** that acts like a smart customer service assistant.  \n",
        "The agent can **think, plan, act, and reflect** to answer customer requests about products in an eyewear shop.\n",
        "\n",
        "We'll go step by step:\n",
        "1. Set up the environment and database  \n",
        "2. Build each tool (functions)  \n",
        "3. Combine everything into an agent  \n",
        "4. Reflect and summarize results  \n",
        "5. Review key concepts with a short quiz\n"
      ],
      "metadata": {
        "id": "ewEMSdV_NDqX"
      }
    },
    {
      "cell_type": "code",
      "source": [
        "# ==========================================================\n",
        "# 📦 SETUP\n",
        "# ==========================================================\n",
        "\n",
        "!pip install google-generativeai tinydb -q\n",
        "\n",
        "import google.generativeai as genai\n",
        "from tinydb import TinyDB, Query\n",
        "import json, re, time\n",
        "\n",
        "# ---- CONFIG ----\n",
        "GOOGLE_API_KEY = userdata.get('GOOGLE_API_KEY')  # if running in DLAI env\n",
        "genai.configure(api_key=GOOGLE_API_KEY)\n"
      ],
      "metadata": {
        "id": "kDVKZMtGNDMN"
      },
      "execution_count": 2,
      "outputs": []
    },
    {
      "cell_type": "markdown",
      "source": [
        "## 🗃️ Step 1: Create a Simple Product Database\n",
        "\n",
        "We’ll use **TinyDB** to simulate an in-memory product database.  \n",
        "This database includes three example products with fields such as `name`, `price`, `stock`, and `description`.\n"
      ],
      "metadata": {
        "id": "XzBD7QxpNRip"
      }
    },
    {
      "cell_type": "code",
      "source": [
        "# ---- DATABASE ----\n",
        "db = TinyDB(\"products.json\")\n",
        "db.truncate()\n",
        "db.insert_multiple([\n",
        "    {\n",
        "        \"name\": \"Smart Glasses X1\",\n",
        "        \"price\": 120,\n",
        "        \"stock\": 8,\n",
        "        \"description\": \"AR-powered glasses with touch control and Bluetooth audio.\"\n",
        "    },\n",
        "    {\n",
        "        \"name\": \"Reading Glasses Classic\",\n",
        "        \"price\": 40,\n",
        "        \"stock\": 15,\n",
        "        \"description\": \"Lightweight reading glasses for everyday use.\"\n",
        "    },\n",
        "    {\n",
        "        \"name\": \"Sun Glasses Retro\",\n",
        "        \"price\": 60,\n",
        "        \"stock\": 0,\n",
        "        \"description\": \"UV-protected polarized retro sunglasses.\"\n",
        "    }\n",
        "])\n"
      ],
      "metadata": {
        "colab": {
          "base_uri": "https://localhost:8080/"
        },
        "id": "GtXYHkyUNSLt",
        "outputId": "4a6ce949-050c-4581-821f-98b99a8142fd"
      },
      "execution_count": 3,
      "outputs": [
        {
          "output_type": "execute_result",
          "data": {
            "text/plain": [
              "[1, 2, 3]"
            ]
          },
          "metadata": {},
          "execution_count": 3
        }
      ]
    },
    {
      "cell_type": "code",
      "source": [
        "# ---- CUSTOMER DATABASE ----\n",
        "customers_db = TinyDB(\"customers.json\")\n",
        "customers_db.truncate()\n",
        "customers_db.insert_multiple([\n",
        "    {\n",
        "        \"id\": 1,\n",
        "        \"name\": \"John Doe\",\n",
        "        \"credits\": 300\n",
        "    },\n",
        "    {\n",
        "        \"id\": 2,\n",
        "        \"name\": \"Sarah Lee\",\n",
        "        \"credits\": 150\n",
        "    },\n",
        "    {\n",
        "        \"id\": 3,\n",
        "        \"name\": \"David Kim\",\n",
        "        \"credits\": 500\n",
        "    }\n",
        "])\n",
        "\n",
        "print(\"✅ Customers database created.\")\n"
      ],
      "metadata": {
        "colab": {
          "base_uri": "https://localhost:8080/"
        },
        "id": "z5iTOufH6-J1",
        "outputId": "c43e0392-5c4a-411c-9529-3813992da584"
      },
      "execution_count": 4,
      "outputs": [
        {
          "output_type": "stream",
          "name": "stdout",
          "text": [
            "✅ Customers database created.\n"
          ]
        }
      ]
    },
    {
      "cell_type": "code",
      "source": [
        "# ---- INVOICES DATABASE ----\n",
        "invoices_db = TinyDB(\"invoices.json\")\n",
        "invoices_db.truncate()\n",
        "\n",
        "invoices_db.insert_multiple([\n",
        "    {\n",
        "        \"invoice_id\": 1,\n",
        "        \"customer_id\": 1,\n",
        "        \"product_name\": \"Smart Glasses X1\",\n",
        "        \"price\": 120,\n",
        "        \"purchase_date\": \"2025-01-15\",\n",
        "        \"warranty_months\": 12\n",
        "    },\n",
        "    {\n",
        "        \"invoice_id\": 2,\n",
        "        \"customer_id\": 2,\n",
        "        \"product_name\": \"Reading Glasses Classic\",\n",
        "        \"price\": 40,\n",
        "        \"purchase_date\": \"2025-02-10\",\n",
        "        \"warranty_months\": 6\n",
        "    },\n",
        "    {\n",
        "        \"invoice_id\": 3,\n",
        "        \"customer_id\": 1,\n",
        "        \"product_name\": \"Sun Glasses Retro\",\n",
        "        \"price\": 60,\n",
        "        \"purchase_date\": \"2024-11-20\",\n",
        "        \"warranty_months\": 3\n",
        "    }\n",
        "])\n",
        "\n",
        "print(\"✅ Invoices database created with 3 sample records.\")\n"
      ],
      "metadata": {
        "colab": {
          "base_uri": "https://localhost:8080/"
        },
        "id": "ec8m8c4N7E4c",
        "outputId": "f920e1f3-4119-4b55-e843-a9839a71b8a4"
      },
      "execution_count": 9,
      "outputs": [
        {
          "output_type": "stream",
          "name": "stdout",
          "text": [
            "✅ Invoices database created with 3 sample records.\n"
          ]
        }
      ]
    },
    {
      "cell_type": "code",
      "source": [
        "from tinydb import Query\n",
        "Customer = Query()\n",
        "print(customers_db.search(Customer.name == \"John Doe\"))\n"
      ],
      "metadata": {
        "colab": {
          "base_uri": "https://localhost:8080/"
        },
        "id": "tgWaWOoX7Zkb",
        "outputId": "29992e8c-eb47-4df1-b250-c8b00cda9adf"
      },
      "execution_count": 8,
      "outputs": [
        {
          "output_type": "stream",
          "name": "stdout",
          "text": [
            "[{'id': 1, 'name': 'John Doe', 'credits': 300}]\n"
          ]
        }
      ]
    },
    {
      "cell_type": "code",
      "source": [
        "from tinydb import Query\n",
        "Invoice = Query()\n",
        "print(invoices_db.search(Invoice.customer_id == 1))\n"
      ],
      "metadata": {
        "colab": {
          "base_uri": "https://localhost:8080/"
        },
        "id": "nvyAm2PD7rZC",
        "outputId": "e077bb02-9be4-41d9-ff6a-69ec3e67cecf"
      },
      "execution_count": 10,
      "outputs": [
        {
          "output_type": "stream",
          "name": "stdout",
          "text": [
            "[{'invoice_id': 1, 'customer_id': 1, 'product_name': 'Smart Glasses X1', 'price': 120, 'purchase_date': '2025-01-15', 'warranty_months': 12}, {'invoice_id': 3, 'customer_id': 1, 'product_name': 'Sun Glasses Retro', 'price': 60, 'purchase_date': '2024-11-20', 'warranty_months': 3}]\n"
          ]
        }
      ]
    },
    {
      "cell_type": "markdown",
      "source": [
        "## 🧩 Step 2: Product Description Tool (`get_product_description`)\n",
        "\n",
        "This tool retrieves a product’s **description** from the database.\n",
        "\n",
        "**Concept:**  \n",
        "The agent calls this when a user asks for product details, like:  \n",
        "> “Tell me about Smart Glasses X1.”\n"
      ],
      "metadata": {
        "id": "2_WEZ5QVNYsd"
      }
    },
    {
      "cell_type": "code",
      "source": [
        "def get_product_description(product_name: str):\n",
        "    Product = Query()\n",
        "    result = db.search(Product.name == product_name)\n",
        "    if result:\n",
        "        return result[0][\"description\"]\n",
        "    return f\"❌ Sorry, no description found for {product_name}.\"\n",
        "\n",
        "# ✅ Test\n",
        "print(get_product_description(\"Smart Glasses X1\"))\n"
      ],
      "metadata": {
        "colab": {
          "base_uri": "https://localhost:8080/"
        },
        "id": "2rh_Is0NNSJr",
        "outputId": "3add80ed-fefb-4a36-c49c-47b302ea8051"
      },
      "execution_count": 19,
      "outputs": [
        {
          "output_type": "stream",
          "name": "stdout",
          "text": [
            "AR-powered glasses with touch control and Bluetooth audio.\n"
          ]
        }
      ]
    },
    {
      "cell_type": "markdown",
      "source": [
        "## 🔍 Step 3: Stock Checker Tool (`check_stock`)\n",
        "\n",
        "This tool checks how many units of a product are available.  \n",
        "It returns a friendly message about whether the product is in stock or out of stock.\n"
      ],
      "metadata": {
        "id": "vg1fufcxNglJ"
      }
    },
    {
      "cell_type": "code",
      "source": [
        "def check_stock(product_name: str):\n",
        "    Product = Query()\n",
        "    result = db.search(Product.name == product_name)\n",
        "    if result:\n",
        "        stock = result[0][\"stock\"]\n",
        "        if stock > 0:\n",
        "            return f\"✅ {product_name} is in stock ({stock} units available).\"\n",
        "        else:\n",
        "            return f\"⚠️ {product_name} is currently out of stock.\"\n",
        "    return f\"❌ Product '{product_name}' not found.\"\n",
        "\n",
        "# ✅ Test\n",
        "print(check_stock(\"Reading Glasses Classic\"))\n",
        "print(check_stock(\"Sun Glasses Retro\"))\n"
      ],
      "metadata": {
        "colab": {
          "base_uri": "https://localhost:8080/"
        },
        "id": "YmgGrjzTNgPw",
        "outputId": "642698a0-0255-4285-eab4-7c8250f33b6a"
      },
      "execution_count": 20,
      "outputs": [
        {
          "output_type": "stream",
          "name": "stdout",
          "text": [
            "✅ Reading Glasses Classic is in stock (15 units available).\n",
            "⚠️ Sun Glasses Retro is currently out of stock.\n"
          ]
        }
      ]
    },
    {
      "cell_type": "markdown",
      "source": [
        "## 💰 Step 4: Product Recommendation Tool (`recommend_product`)\n",
        "\n",
        "This tool suggests products under a given **budget**.  \n",
        "The agent uses it when a user asks:\n",
        "> “Do you have any glasses under 100 dollars?”\n"
      ],
      "metadata": {
        "id": "odflRQcsNogr"
      }
    },
    {
      "cell_type": "code",
      "source": [
        "def recommend_product(budget: float):\n",
        "    Product = Query()\n",
        "    results = db.search(Product.price <= budget)\n",
        "    if not results:\n",
        "        return f\"❌ No products found under ${budget}.\"\n",
        "    suggestions = [f\"- {r['name']} (${r['price']})\" for r in results]\n",
        "    return \"Here are some products within your budget:\\n\" + \"\\n\".join(suggestions)\n",
        "\n",
        "# ✅ Test\n",
        "print(recommend_product(100))\n"
      ],
      "metadata": {
        "colab": {
          "base_uri": "https://localhost:8080/"
        },
        "id": "LiPxPHwwNm6U",
        "outputId": "8ffa08cb-d95c-439c-c83a-c42efc346dfe"
      },
      "execution_count": 21,
      "outputs": [
        {
          "output_type": "stream",
          "name": "stdout",
          "text": [
            "Here are some products within your budget:\n",
            "- Reading Glasses Classic ($40)\n",
            "- Sun Glasses Retro ($60)\n"
          ]
        }
      ]
    },
    {
      "cell_type": "markdown",
      "source": [
        "**Check Customer Credits**\n",
        "\n",
        "\n",
        "\n"
      ],
      "metadata": {
        "id": "PqTgSZpq79Z7"
      }
    },
    {
      "cell_type": "code",
      "source": [
        "# ✅ NEW TOOL: Check Customer Credits\n",
        "def check_customer_credits(customer_name: str):\n",
        "    Customer = Query()\n",
        "    result = customers_db.search(Customer.name == customer_name)\n",
        "\n",
        "    if not result:\n",
        "        return f\"❌ Customer '{customer_name}' not found.\"\n",
        "\n",
        "    credits = result[0][\"credits\"]\n",
        "    return f\"💳 {customer_name} has {credits} store credits available.\"\n"
      ],
      "metadata": {
        "id": "gXIABzDP78fB"
      },
      "execution_count": 11,
      "outputs": []
    },
    {
      "cell_type": "code",
      "source": [
        "print(check_customer_credits(\"John Doe\"))\n",
        "print(check_customer_credits(\"Sarah Lee\"))\n",
        "print(check_customer_credits(\"Unknown Person\"))\n"
      ],
      "metadata": {
        "colab": {
          "base_uri": "https://localhost:8080/"
        },
        "id": "2LgEtmNN8Gfc",
        "outputId": "443d4d62-b596-4781-fe2b-1056080ff708"
      },
      "execution_count": 12,
      "outputs": [
        {
          "output_type": "stream",
          "name": "stdout",
          "text": [
            "💳 John Doe has 300 store credits available.\n",
            "💳 Sarah Lee has 150 store credits available.\n",
            "❌ Customer 'Unknown Person' not found.\n"
          ]
        }
      ]
    },
    {
      "cell_type": "markdown",
      "source": [
        "**Find Customer**"
      ],
      "metadata": {
        "id": "Vxhpqf2A8Q-w"
      }
    },
    {
      "cell_type": "code",
      "source": [
        "# ✅ Tool: Find customer invoices\n",
        "def find_customer_invoices(customer_name: str):\n",
        "    # find customer ID\n",
        "    Customer = Query()\n",
        "    customer = customers_db.search(Customer.name == customer_name)\n",
        "    if not customer:\n",
        "        return f\"❌ Customer '{customer_name}' not found.\"\n",
        "\n",
        "    customer_id = customer[0][\"id\"]\n",
        "\n",
        "    # find invoices\n",
        "    Invoice = Query()\n",
        "    records = invoices_db.search(Invoice.customer_id == customer_id)\n",
        "\n",
        "    if not records:\n",
        "        return f\"🧾 No invoices found for {customer_name}.\"\n",
        "\n",
        "    message = f\"🧾 Purchase history for {customer_name}:\\n\"\n",
        "    for inv in records:\n",
        "        message += (\n",
        "            f\"- Invoice #{inv['invoice_id']} | {inv['product_name']} | \"\n",
        "            f\"${inv['price']} | Purchased: {inv['purchase_date']} | \"\n",
        "            f\"Warranty: {inv['warranty_months']} months\\n\"\n",
        "        )\n",
        "    return message.strip()\n"
      ],
      "metadata": {
        "id": "_nAfxM6R8YeI"
      },
      "execution_count": 13,
      "outputs": []
    },
    {
      "cell_type": "code",
      "source": [
        "print(find_customer_invoices(\"John Doe\"))\n"
      ],
      "metadata": {
        "colab": {
          "base_uri": "https://localhost:8080/"
        },
        "id": "KXJbzp6x8c40",
        "outputId": "a779c119-f9b5-4b9e-e96c-cf521ba0bafc"
      },
      "execution_count": 14,
      "outputs": [
        {
          "output_type": "stream",
          "name": "stdout",
          "text": [
            "🧾 Purchase history for John Doe:\n",
            "- Invoice #1 | Smart Glasses X1 | $120 | Purchased: 2025-01-15 | Warranty: 12 months\n",
            "- Invoice #3 | Sun Glasses Retro | $60 | Purchased: 2024-11-20 | Warranty: 3 months\n"
          ]
        }
      ]
    },
    {
      "cell_type": "markdown",
      "source": [
        "**Check Warranty**"
      ],
      "metadata": {
        "id": "e1FtWDFs8ise"
      }
    },
    {
      "cell_type": "code",
      "source": [
        "from datetime import datetime\n",
        "from dateutil.relativedelta import relativedelta\n",
        "\n",
        "# ✅ Tool: Check warranty by invoice ID\n",
        "def check_warranty(invoice_id: int):\n",
        "    Invoice = Query()\n",
        "    record = invoices_db.search(Invoice.invoice_id == invoice_id)\n",
        "\n",
        "    if not record:\n",
        "        return f\"❌ Invoice #{invoice_id} not found.\"\n",
        "\n",
        "    invoice = record[0]\n",
        "    purchase_date = datetime.strptime(invoice[\"purchase_date\"], \"%Y-%m-%d\")\n",
        "    warranty_months = invoice[\"warranty_months\"]\n",
        "    warranty_end = purchase_date + relativedelta(months=warranty_months)\n",
        "\n",
        "    today = datetime.today()\n",
        "\n",
        "    if today <= warranty_end:\n",
        "        return f\"✅ Invoice #{invoice_id} is still under warranty until {warranty_end.date()}.\"\n",
        "    else:\n",
        "        return f\"⚠️ Warranty expired on {warranty_end.date()} for Invoice #{invoice_id}.\""
      ],
      "metadata": {
        "id": "IGT-bTme8mQ1"
      },
      "execution_count": 17,
      "outputs": []
    },
    {
      "cell_type": "code",
      "source": [
        "print(check_warranty(1))\n",
        "print(check_warranty(3))\n",
        "print(check_warranty(999))\n"
      ],
      "metadata": {
        "colab": {
          "base_uri": "https://localhost:8080/"
        },
        "id": "6M2nulyk8f5N",
        "outputId": "cdb0fe15-846d-4696-f424-2d4381172456"
      },
      "execution_count": 18,
      "outputs": [
        {
          "output_type": "stream",
          "name": "stdout",
          "text": [
            "✅ Invoice #1 is still under warranty until 2026-01-15.\n",
            "⚠️ Warranty expired on 2025-02-20 for Invoice #3.\n",
            "❌ Invoice #999 not found.\n"
          ]
        }
      ]
    },
    {
      "cell_type": "markdown",
      "source": [
        "## ⚙️ Step 5: JSON Parser Utility (`parse_json_response`)\n",
        "\n",
        "This helper function extracts valid JSON from model outputs.  \n",
        "It ensures the agent can interpret tool-call instructions correctly, even if the model adds formatting like ```json.\n"
      ],
      "metadata": {
        "id": "eHUJk2wwNuiE"
      }
    },
    {
      "cell_type": "code",
      "source": [
        "def parse_json_response(raw_text):\n",
        "    clean = re.sub(r\"```json|```\", \"\", raw_text).strip()\n",
        "    match = re.search(r\"\\{.*\\}\", clean, re.DOTALL)\n",
        "    if not match:\n",
        "        raise ValueError(f\"No JSON found in model output:\\n{raw_text[:200]}\")\n",
        "    return json.loads(match.group(0))\n"
      ],
      "metadata": {
        "id": "N7hQdxHCNs6h"
      },
      "execution_count": 22,
      "outputs": []
    },
    {
      "cell_type": "markdown",
      "source": [
        "## 🧠 Step 6: Building the Agent (`agentic_customer_service`)\n",
        "\n",
        "This is the main **agentic workflow**.  \n",
        "It can:\n",
        "1. Decide which tool(s) to use  \n",
        "2. Execute them step by step  \n",
        "3. Reflect and summarize in a customer-friendly way\n"
      ],
      "metadata": {
        "id": "8bLgXD31Nxtu"
      }
    },
    {
      "cell_type": "code",
      "source": [
        "def agentic_customer_service(user_prompt: str, max_steps: int = 3):\n",
        "    \"\"\"\n",
        "    Multi-tool Agentic workflow with reflection.\n",
        "    - LLM decides which tools to call (1 or more)\n",
        "    - Executes sequentially, stores results\n",
        "    - Reflects to produce final natural answer\n",
        "    \"\"\"\n",
        "    model = genai.GenerativeModel(\"gemini-2.5-flash\")\n",
        "\n",
        "    tools_description = \"\"\"\n",
        "    You have access to these tools:\n",
        "    1. get_product_description(product_name: str)\n",
        "    2. check_stock(product_name: str)\n",
        "    3. recommend_product(budget: float)\n",
        "    4. check_customer_credits(customer_name: str)\n",
        "    5. find_customer_invoices(customer_name: str)\n",
        "    6. check_warranty(invoice_id: int)\n",
        "    7. buy_product(customer_name: str, product_name: str)\n",
        "\n",
        "    Each step, return JSON:\n",
        "    {\"actions\": [\n",
        "        {\"tool\": \"tool_name\", \"args\": {...}},\n",
        "        ...\n",
        "    ]}\n",
        "    You may call one or more tools depending on user need.\n",
        "    \"\"\"\n",
        "\n",
        "    history = []\n",
        "    print(f\"🗣️ User: {user_prompt}\\n\")\n",
        "\n",
        "    for step in range(1, max_steps + 1):\n",
        "        step_prompt = f\"\"\"\n",
        "        You are an AI assistant for an eyewear shop.\n",
        "        {tools_description}\n",
        "\n",
        "        Conversation so far:\n",
        "        {json.dumps(history, indent=2)}\n",
        "\n",
        "        User request: {user_prompt}\n",
        "\n",
        "        Decide what tools to use next (if any), or return \"done\" if ready to answer.\n",
        "        Output strictly in JSON.\n",
        "        \"\"\"\n",
        "\n",
        "        response = model.generate_content(step_prompt)\n",
        "        text = response.text.strip()\n",
        "        print(f\"🔹 Step {step} Decision:\\n{text}\\n\")\n",
        "\n",
        "        # --- FIX: Handle 'done' or non-JSON output gracefully ---\n",
        "        if text.lower() == \"done\":\n",
        "            print(\"✅ No more actions. Proceeding to reflection.\\n\")\n",
        "            break\n",
        "\n",
        "        # Try parsing JSON\n",
        "        try:\n",
        "            decision_data = parse_json_response(text)\n",
        "            actions = decision_data.get(\"actions\", [])\n",
        "        except Exception as e:\n",
        "            print(f\"⚠️ Parsing failed: {e}\")\n",
        "            break\n",
        "\n",
        "        if not actions:\n",
        "            print(\"✅ No actions found. Proceeding to reflection.\\n\")\n",
        "            break\n",
        "\n",
        "        # Execute each tool and log results\n",
        "        for action in actions:\n",
        "            tool = action.get(\"tool\")\n",
        "            args = action.get(\"args\", {})\n",
        "            print(f\"🔧 Executing: {tool} {args}\")\n",
        "\n",
        "            try:\n",
        "                if tool == \"get_product_description\":\n",
        "                    result = get_product_description(**args)\n",
        "                elif tool == \"check_stock\":\n",
        "                    result = check_stock(**args)\n",
        "                elif tool == \"recommend_product\":\n",
        "                    result = recommend_product(**args)\n",
        "                elif tool == \"check_customer_credits\":\n",
        "                    result = check_customer_credits(**args)\n",
        "                elif tool == \"find_customer_invoices\":\n",
        "                    result = find_customer_invoices(**args)\n",
        "                elif tool == \"check_warranty\":\n",
        "                    result = check_warranty(**args)\n",
        "                elif tool == \"buy_product\":\n",
        "                    result = buy_product(**args)\n",
        "                else:\n",
        "                    result = f\"Unknown tool '{tool}'\"\n",
        "            except Exception as e:\n",
        "                result = f\"Error while executing {tool}: {e}\"\n",
        "\n",
        "            history.append({\"tool\": tool, \"args\": args, \"result\": result})\n",
        "            print(f\"📦 Result: {result}\\n\")\n",
        "\n",
        "        time.sleep(1)\n",
        "\n",
        "    # ---- Reflection Phase ----\n",
        "    reflection_prompt = f\"\"\"\n",
        "    The user asked: {user_prompt}\n",
        "    You have this context from tools:\n",
        "    {json.dumps(history, indent=2)}\n",
        "\n",
        "    Write a final, polite, customer-friendly summary.\n",
        "    Don't mention tools or steps. Just the helpful final answer.\n",
        "    \"\"\"\n",
        "\n",
        "    final = model.generate_content(reflection_prompt)\n",
        "    print(\"💬 Final Response:\\n\")\n",
        "    return final.text\n"
      ],
      "metadata": {
        "id": "DtMCdP3YNPpT"
      },
      "execution_count": 30,
      "outputs": []
    },
    {
      "cell_type": "markdown",
      "source": [
        "## 🪞 Step 7: Run the Agent (Full Workflow)\n",
        "\n",
        "Now, let’s test everything together.  \n",
        "The agent will plan, act, and reflect like a real assistant.\n"
      ],
      "metadata": {
        "id": "zLeqAPpEN6Q2"
      }
    },
    {
      "cell_type": "code",
      "source": [
        "print(agentic_customer_service(\"My name is John Doe, i want to buy Smart Glasses X1\"))\n"
      ],
      "metadata": {
        "colab": {
          "base_uri": "https://localhost:8080/",
          "height": 904
        },
        "id": "12mGr-R4N5Eq",
        "outputId": "8971c8a3-c256-4c5c-c911-5ae4839fd8ba"
      },
      "execution_count": 32,
      "outputs": [
        {
          "output_type": "stream",
          "name": "stdout",
          "text": [
            "🗣️ User: My name is John Doe, i want to buy Smart Glasses X1\n",
            "\n",
            "🔹 Step 1 Decision:\n",
            "```json\n",
            "{\n",
            "  \"actions\": [\n",
            "    {\n",
            "      \"tool\": \"check_stock\",\n",
            "      \"args\": {\n",
            "        \"product_name\": \"Smart Glasses X1\"\n",
            "      }\n",
            "    }\n",
            "  ]\n",
            "}\n",
            "```\n",
            "\n",
            "🔧 Executing: check_stock {'product_name': 'Smart Glasses X1'}\n",
            "📦 Result: ✅ Smart Glasses X1 is in stock (7 units available).\n",
            "\n",
            "🔹 Step 2 Decision:\n",
            "```json\n",
            "{\n",
            "  \"actions\": [\n",
            "    {\n",
            "      \"tool\": \"buy_product\",\n",
            "      \"args\": {\n",
            "        \"customer_name\": \"John Doe\",\n",
            "        \"product_name\": \"Smart Glasses X1\"\n",
            "      }\n",
            "    }\n",
            "  ]\n",
            "}\n",
            "```\n",
            "\n",
            "🔧 Executing: buy_product {'customer_name': 'John Doe', 'product_name': 'Smart Glasses X1'}\n",
            "📦 Result: {'status': 'success', 'message': 'Purchase completed successfully.', 'invoice_id': 5, 'product': 'Smart Glasses X1', 'price': 120, 'remaining_credits': 60}\n",
            "\n",
            "🔹 Step 3 Decision:\n",
            "\"done\"\n",
            "\n",
            "⚠️ Parsing failed: No JSON found in model output:\n",
            "\"done\"\n",
            "💬 Final Response:\n",
            "\n",
            "Hello John Doe,\n",
            "\n",
            "Your purchase of the Smart Glasses X1 has been successfully completed!\n",
            "\n",
            "Your invoice ID is 5. The price for your Smart Glasses X1 was 120, and you now have 60 credits remaining.\n",
            "\n",
            "Thank you for your purchase!\n"
          ]
        }
      ]
    },
    {
      "cell_type": "markdown",
      "source": [
        "# ✅ Reflection Quiz\n",
        "\n",
        "Answer the following questions to review your understanding:\n",
        "\n",
        "1. **Planning:**  \n",
        "   How does the agent decide which tool(s) to use for a specific request?  \n",
        "   (Hint: Look at the JSON output.)\n",
        "\n",
        "2. **Action:**  \n",
        "   Why is the JSON structure important for executing the correct tool?\n",
        "\n",
        "3. **Reflection:**  \n",
        "   What does the reflection phase contribute to the final answer?\n",
        "\n",
        "4. **Extension:**  \n",
        "   If you wanted the agent to also tell you *the cheapest* product,  \n",
        "   which new tool would you add?\n",
        "\n",
        "🧩 *Discuss these questions or write your answers in a new text cell.*\n"
      ],
      "metadata": {
        "id": "fRK_2TtNOEPu"
      }
    },
    {
      "cell_type": "markdown",
      "source": [
        "# 🧩 Step 8: Student Exercise — Create a New, Unique Tool\n",
        "\n",
        "Now it’s your turn to extend the agent’s intelligence!\n",
        "\n",
        "The agent currently has three tools:\n",
        "1. `recommend_product(budget)` → finds products within a budget  \n",
        "2. `check_stock(product_name)` → checks availability  \n",
        "3. `get_product_description(product_name)` → gives product info  \n",
        "\n",
        "Your task is to **create a new tool that provides a capability not covered by these.**\n",
        "\n",
        "---\n",
        "\n",
        "## 🧠 Design Challenge\n",
        "\n",
        "Think about what *else* a customer might ask that cannot be answered by the existing tools.\n",
        "\n",
        "Here are some example ideas:\n",
        "| New Tool Name | What It Does | Example User Question |\n",
        "|----------------|---------------|------------------------|\n",
        "| `compare_products(product1, product2)` | Compares two products by price, stock, or features | “Compare Smart Glasses X1 and Reading Glasses Classic.” |\n",
        "| `get_average_price()` | Calculates and returns the average price of all products | “What’s the average price of your glasses?” |\n",
        "| `list_available_products()` | Returns only products currently in stock | “Which glasses are currently available?” |\n",
        "| `get_highest_stock_item()` | Finds the product with the largest stock | “Which product do you have the most of?” |\n",
        "| `estimate_total_value()` | Calculates total store value (price × stock for all items) | “How much is your total stock worth?” |\n",
        "\n",
        "Choose one of these, or come up with your own!  \n",
        "Your tool should add **new reasoning ability** to the agent — something it could *never* do before.\n",
        "\n",
        "---\n",
        "\n",
        "## 🧱 Step 8A: Define Your Tool\n"
      ],
      "metadata": {
        "id": "Lga1aZ4HOdNp"
      }
    },
    {
      "cell_type": "code",
      "source": [
        "# 🧩 Example: list_available_products()\n",
        "# You can change this idea or make your own unique function!\n",
        "\n",
        "def list_available_products():\n",
        "    \"\"\"\n",
        "    Lists all products that are currently in stock.\n",
        "    \"\"\"\n",
        "    products = db.all()\n",
        "    available = [p for p in products if p[\"stock\"] > 0]\n",
        "\n",
        "    if not available:\n",
        "        return \"⚠️ No products are available at the moment.\"\n",
        "\n",
        "    message = \"🟢 Available Products:\\n\"\n",
        "    for p in available:\n",
        "        message += f\"- {p['name']} (${p['price']}) — {p['stock']} in stock\\n\"\n",
        "    return message.strip()\n",
        "\n",
        "# ✅ Test your tool\n",
        "print(list_available_products())\n"
      ],
      "metadata": {
        "colab": {
          "base_uri": "https://localhost:8080/"
        },
        "id": "cb6ZLEiBO30_",
        "outputId": "615a334d-7625-49c4-abf8-e55c16a81e3e"
      },
      "execution_count": null,
      "outputs": [
        {
          "output_type": "stream",
          "name": "stdout",
          "text": [
            "🟢 Available Products:\n",
            "- Smart Glasses X1 ($120) — 8 in stock\n",
            "- Reading Glasses Classic ($40) — 15 in stock\n"
          ]
        }
      ]
    },
    {
      "cell_type": "markdown",
      "source": [
        "## 🧠 Step 8C: Test Your Extended Agent\n",
        "\n",
        "Now test your agent with a question that uses your new capability.\n",
        "\n",
        "Try something like:\n",
        "> “Can you list all products that are available right now?”\n"
      ],
      "metadata": {
        "id": "ymKqHFQ-O_GT"
      }
    },
    {
      "cell_type": "markdown",
      "source": [
        "**Advanced/ Complex Tools**"
      ],
      "metadata": {
        "id": "y3gcdAAW-pof"
      }
    },
    {
      "cell_type": "code",
      "source": [
        "from datetime import datetime\n",
        "\n",
        "# ✅ New Tool: Buy Product\n",
        "def buy_product(customer_name: str, product_name: str):\n",
        "    # --- Check customer exists ---\n",
        "    Customer = Query()\n",
        "    customer = customers_db.search(Customer.name == customer_name)\n",
        "    if not customer:\n",
        "        return {\n",
        "            \"status\": \"error\",\n",
        "            \"message\": f\"Customer '{customer_name}' not found.\"\n",
        "        }\n",
        "    customer = customer[0]\n",
        "\n",
        "    # --- Check product exists ---\n",
        "    Product = Query()\n",
        "    product = db.search(Product.name == product_name)\n",
        "    if not product:\n",
        "        return {\n",
        "            \"status\": \"error\",\n",
        "            \"message\": f\"Product '{product_name}' not found.\"\n",
        "        }\n",
        "    product = product[0]\n",
        "\n",
        "    # --- Check stock ---\n",
        "    if product[\"stock\"] <= 0:\n",
        "        return {\n",
        "            \"status\": \"error\",\n",
        "            \"message\": f\"Product '{product_name}' is out of stock.\"\n",
        "        }\n",
        "\n",
        "    # --- Check credits ---\n",
        "    if customer[\"credits\"] < product[\"price\"]:\n",
        "        return {\n",
        "            \"status\": \"error\",\n",
        "            \"message\": f\"Insufficient credits. {customer_name} has {customer['credits']} credits, price is {product['price']}.\"\n",
        "        }\n",
        "\n",
        "    # --- Deduct credits & update customer ---\n",
        "    new_credits = customer[\"credits\"] - product[\"price\"]\n",
        "    customers_db.update({\"credits\": new_credits}, Customer.id == customer[\"id\"])\n",
        "\n",
        "    # --- Update stock ---\n",
        "    new_stock = product[\"stock\"] - 1\n",
        "    db.update({\"stock\": new_stock}, Product.name == product_name)\n",
        "\n",
        "    # --- Create invoice ---\n",
        "    invoice_id = len(invoices_db) + 1\n",
        "    purchase_date = datetime.today().strftime(\"%Y-%m-%d\")\n",
        "    warranty_months = 12\n",
        "    invoices_db.insert({\n",
        "        \"invoice_id\": invoice_id,\n",
        "        \"customer_id\": customer[\"id\"],\n",
        "        \"product_name\": product_name,\n",
        "        \"price\": product[\"price\"],\n",
        "        \"purchase_date\": purchase_date,\n",
        "        \"warranty_months\": warranty_months\n",
        "    })\n",
        "\n",
        "    # --- Return success message ---\n",
        "    return {\n",
        "        \"status\": \"success\",\n",
        "        \"message\": \"Purchase completed successfully.\",\n",
        "        \"invoice_id\": invoice_id,\n",
        "        \"product\": product_name,\n",
        "        \"price\": product[\"price\"],\n",
        "        \"remaining_credits\": new_credits\n",
        "    }\n"
      ],
      "metadata": {
        "id": "hEvHpDdS-pV8"
      },
      "execution_count": 27,
      "outputs": []
    },
    {
      "cell_type": "code",
      "source": [
        "print(buy_product(\"John Doe\", \"Smart Glasses X1\"))"
      ],
      "metadata": {
        "colab": {
          "base_uri": "https://localhost:8080/"
        },
        "id": "dW7jdUrJ_rka",
        "outputId": "64309343-3ac9-4016-f203-811c7145890e"
      },
      "execution_count": 28,
      "outputs": [
        {
          "output_type": "stream",
          "name": "stdout",
          "text": [
            "{'status': 'success', 'message': 'Purchase completed successfully.', 'invoice_id': 4, 'product': 'Smart Glasses X1', 'price': 120, 'remaining_credits': 180}\n"
          ]
        }
      ]
    }
  ]
}